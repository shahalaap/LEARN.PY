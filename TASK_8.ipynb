{
  "nbformat": 4,
  "nbformat_minor": 0,
  "metadata": {
    "colab": {
      "name": "TASK 8.ipynb",
      "provenance": [],
      "include_colab_link": true
    },
    "kernelspec": {
      "name": "python3",
      "display_name": "Python 3"
    },
    "language_info": {
      "name": "python"
    }
  },
  "cells": [
    {
      "cell_type": "markdown",
      "metadata": {
        "id": "view-in-github",
        "colab_type": "text"
      },
      "source": [
        "<a href=\"https://colab.research.google.com/github/shahalaap/LEARN.PY/blob/main/TASK_8.ipynb\" target=\"_parent\"><img src=\"https://colab.research.google.com/assets/colab-badge.svg\" alt=\"Open In Colab\"/></a>"
      ]
    },
    {
      "cell_type": "markdown",
      "metadata": {
        "id": "slsGswYbJSo7"
      },
      "source": [
        "1. Generate a 3 x 3 matrix using random module."
      ]
    },
    {
      "cell_type": "code",
      "metadata": {
        "id": "GGRQSYyNJW9t",
        "colab": {
          "base_uri": "https://localhost:8080/"
        },
        "outputId": "28defcb6-7717-42f2-e572-d48a33014e26"
      },
      "source": [
        "#please provide your answer below this line.\n",
        "from numpy import*\n",
        " \n",
        "arr1 = array([\n",
        "                [1,2,3,4,5,6,7,8,9]\n",
        " \n",
        "            ])\n",
        " \n",
        "arr2 = arr1.reshape(3,3)\n",
        " \n",
        "print(arr2)"
      ],
      "execution_count": null,
      "outputs": [
        {
          "output_type": "stream",
          "text": [
            "[[1 2 3]\n",
            " [4 5 6]\n",
            " [7 8 9]]\n"
          ],
          "name": "stdout"
        }
      ]
    },
    {
      "cell_type": "markdown",
      "metadata": {
        "id": "4OB9KFX6JfYA"
      },
      "source": [
        "2. Generate two 4 x 4 matrix using numpy and \n",
        "\n",
        " a) Reshape it to 2 x 8matrix and vertically stack it.\n",
        "\n",
        " b) Reshape it to 2 x 8 matrix and horizontally stack it."
      ]
    },
    {
      "cell_type": "code",
      "metadata": {
        "id": "VoIqYeNWJ4H_",
        "colab": {
          "base_uri": "https://localhost:8080/"
        },
        "outputId": "c02a2edb-a066-4e92-c1bb-5ce83954c054"
      },
      "source": [
        "#please provide your answer below this line.\n",
        "import numpy as np\n",
        " \n",
        "a = np.arange(1,17).reshape(4,4)\n",
        "b = np.arange(18,34).reshape(4,4)\n",
        " \n",
        "print(a)\n",
        "print(b)\n",
        " \n",
        "c = np.arange(1,17).reshape(2,8)\n",
        "print(c)\n",
        " \n",
        "d = np.arange(18,34).reshape(2,8)\n",
        "print(d)\n",
        " \n",
        "e = np.vstack((a,b))\n",
        "print(e)\n",
        " \n",
        "f = np.hstack((a,b))\n",
        "print(f)"
      ],
      "execution_count": 2,
      "outputs": [
        {
          "output_type": "stream",
          "text": [
            "[[ 1  2  3  4]\n",
            " [ 5  6  7  8]\n",
            " [ 9 10 11 12]\n",
            " [13 14 15 16]]\n",
            "[[18 19 20 21]\n",
            " [22 23 24 25]\n",
            " [26 27 28 29]\n",
            " [30 31 32 33]]\n",
            "[[ 1  2  3  4  5  6  7  8]\n",
            " [ 9 10 11 12 13 14 15 16]]\n",
            "[[18 19 20 21 22 23 24 25]\n",
            " [26 27 28 29 30 31 32 33]]\n",
            "[[ 1  2  3  4]\n",
            " [ 5  6  7  8]\n",
            " [ 9 10 11 12]\n",
            " [13 14 15 16]\n",
            " [18 19 20 21]\n",
            " [22 23 24 25]\n",
            " [26 27 28 29]\n",
            " [30 31 32 33]]\n",
            "[[ 1  2  3  4 18 19 20 21]\n",
            " [ 5  6  7  8 22 23 24 25]\n",
            " [ 9 10 11 12 26 27 28 29]\n",
            " [13 14 15 16 30 31 32 33]]\n"
          ],
          "name": "stdout"
        }
      ]
    }
  ]
}