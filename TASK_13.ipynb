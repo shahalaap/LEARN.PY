{
  "nbformat": 4,
  "nbformat_minor": 0,
  "metadata": {
    "colab": {
      "name": "TASK 13.ipynb",
      "provenance": [],
      "include_colab_link": true
    },
    "kernelspec": {
      "name": "python3",
      "display_name": "Python 3"
    },
    "language_info": {
      "name": "python"
    }
  },
  "cells": [
    {
      "cell_type": "markdown",
      "metadata": {
        "id": "view-in-github",
        "colab_type": "text"
      },
      "source": [
        "<a href=\"https://colab.research.google.com/github/shahalaap/LEARN.PY/blob/main/TASK_13.ipynb\" target=\"_parent\"><img src=\"https://colab.research.google.com/assets/colab-badge.svg\" alt=\"Open In Colab\"/></a>"
      ]
    },
    {
      "cell_type": "markdown",
      "metadata": {
        "id": "RUSoRkrOqNwf"
      },
      "source": [
        "1. Create a 3x3 array values ranging from 0-8.Find the sum of the elements in this array."
      ]
    },
    {
      "cell_type": "code",
      "metadata": {
        "id": "t01ATYQpqq8u",
        "colab": {
          "base_uri": "https://localhost:8080/"
        },
        "outputId": "1ee4fd9d-528a-44fa-af89-53c604904da8"
      },
      "source": [
        "#please enter your code below this line.\n",
        "import numpy as np\n",
        " \n",
        "arr = np.arange(0,9).reshape(3,3)\n",
        " \n",
        "x = np.sum(arr)\n",
        "print('Sum of the array is ',x)"
      ],
      "execution_count": null,
      "outputs": [
        {
          "output_type": "stream",
          "text": [
            "Sum of the array is  36\n"
          ],
          "name": "stdout"
        }
      ]
    },
    {
      "cell_type": "markdown",
      "metadata": {
        "id": "k3Y7nQF7r3IW"
      },
      "source": [
        "2. Create a 3x3 array values ranging from 0-8.Find the row sum and column sum of this array."
      ]
    },
    {
      "cell_type": "code",
      "metadata": {
        "id": "BzvIlWfvsICv",
        "colab": {
          "base_uri": "https://localhost:8080/"
        },
        "outputId": "c79ceac6-d6cf-4e47-8728-3ce04e14a7ac"
      },
      "source": [
        "#please enter your code below this line.\n",
        "import numpy as np\n",
        " \n",
        "a = np.arange(0,9).reshape(3,3)\n",
        " \n",
        "print(\"sum1, 2, 3: \", a.sum(axis = 1))\n",
        " \n",
        "print(\"sum1, 2, 3: \", a.sum(axis = 0))"
      ],
      "execution_count": null,
      "outputs": [
        {
          "output_type": "stream",
          "text": [
            "sum1, 2, 3:  [ 3 12 21]\n",
            "sum1, 2, 3:  [ 9 12 15]\n"
          ],
          "name": "stdout"
        }
      ]
    },
    {
      "cell_type": "markdown",
      "metadata": {
        "id": "KOPMsbnrsgue"
      },
      "source": [
        "3. Create a 4x4 array values ranging from 0-15. Now,\n",
        "\n",
        "    a) Find the mininmum value in the array.\n",
        "    \n",
        "    b) Find the maximum value in the array.\n",
        "\n",
        "    c) Find the mean of the values in the array."
      ]
    },
    {
      "cell_type": "code",
      "metadata": {
        "id": "1UzITxp3WDaW",
        "colab": {
          "base_uri": "https://localhost:8080/"
        },
        "outputId": "ed42e354-b16b-460a-abca-440d4dca10e9"
      },
      "source": [
        "#please enter your code belowthis line.\n",
        "import numpy as np\n",
        "a = np.arange(0,16).reshape(4,4)\n",
        " \n",
        "b = np.min(a)\n",
        "c = np.max(a)\n",
        "d = np.mean(a)\n",
        " \n",
        "print(b)\n",
        "print(c)\n",
        "print(d)"
      ],
      "execution_count": null,
      "outputs": [
        {
          "output_type": "stream",
          "text": [
            "0\n",
            "15\n",
            "7.5\n"
          ],
          "name": "stdout"
        }
      ]
    },
    {
      "cell_type": "markdown",
      "metadata": {
        "id": "Pah9qGButoz2"
      },
      "source": [
        "4. Create an 10x10 array values ranging from 0-99.And ,\n",
        "\n",
        "    a) Print the 7th row.\n",
        "    \n",
        "    b) Print the rows from 4-8.\n",
        "\n",
        "    c) Print the value at the index 5,5.\n",
        "\n",
        "    d) Print the 5th colomn.\n",
        "\n",
        "    e) Print the columns from 2-5."
      ]
    },
    {
      "cell_type": "code",
      "metadata": {
        "id": "JFXPq0GkvhKi",
        "colab": {
          "base_uri": "https://localhost:8080/"
        },
        "outputId": "6177a21c-d883-46ba-cd88-639ed0223aa9"
      },
      "source": [
        "#please enter your code below this line.\n",
        "import numpy as np\n",
        " \n",
        "a = np.arange(0,100).reshape(10,10)\n",
        "print(a)\n",
        " \n",
        "print(\"Seventh row\")\n",
        "print(a[7])\n",
        " \n",
        "print(\"Rows from 4-8\")\n",
        "print(a[4:8])\n",
        " \n",
        "print(\"value at the index 5,5\")\n",
        "print(a[5,5])\n",
        " \n",
        "print(\"5th column\")\n",
        "print(a[0:10,5])\n",
        " \n",
        "print(\"columns from 2-5\")\n",
        "print(a[0:10,2:6])"
      ],
      "execution_count": 51,
      "outputs": [
        {
          "output_type": "stream",
          "text": [
            "[[ 0  1  2  3  4  5  6  7  8  9]\n",
            " [10 11 12 13 14 15 16 17 18 19]\n",
            " [20 21 22 23 24 25 26 27 28 29]\n",
            " [30 31 32 33 34 35 36 37 38 39]\n",
            " [40 41 42 43 44 45 46 47 48 49]\n",
            " [50 51 52 53 54 55 56 57 58 59]\n",
            " [60 61 62 63 64 65 66 67 68 69]\n",
            " [70 71 72 73 74 75 76 77 78 79]\n",
            " [80 81 82 83 84 85 86 87 88 89]\n",
            " [90 91 92 93 94 95 96 97 98 99]]\n",
            "Seventh row\n",
            "[70 71 72 73 74 75 76 77 78 79]\n",
            "Rows from 4-8\n",
            "[[40 41 42 43 44 45 46 47 48 49]\n",
            " [50 51 52 53 54 55 56 57 58 59]\n",
            " [60 61 62 63 64 65 66 67 68 69]\n",
            " [70 71 72 73 74 75 76 77 78 79]]\n",
            "value at the index 5,5\n",
            "55\n",
            "5th column\n",
            "[ 5 15 25 35 45 55 65 75 85 95]\n",
            "columns from 2-5\n",
            "[[ 2  3  4  5]\n",
            " [12 13 14 15]\n",
            " [22 23 24 25]\n",
            " [32 33 34 35]\n",
            " [42 43 44 45]\n",
            " [52 53 54 55]\n",
            " [62 63 64 65]\n",
            " [72 73 74 75]\n",
            " [82 83 84 85]\n",
            " [92 93 94 95]]\n"
          ],
          "name": "stdout"
        }
      ]
    }
  ]
}