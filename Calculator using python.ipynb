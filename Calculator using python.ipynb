{
  "nbformat": 4,
  "nbformat_minor": 0,
  "metadata": {
    "colab": {
      "name": "Welcome to Colaboratory",
      "provenance": [],
      "collapsed_sections": [],
      "include_colab_link": true
    },
    "kernelspec": {
      "display_name": "Python 3",
      "name": "python3"
    }
  },
  "cells": [
    {
      "cell_type": "markdown",
      "metadata": {
        "id": "view-in-github",
        "colab_type": "text"
      },
      "source": [
        "<a href=\"https://colab.research.google.com/github/shahalaap/LEARN.PY/blob/main/Calculator%20using%20python.ipynb\" target=\"_parent\"><img src=\"https://colab.research.google.com/assets/colab-badge.svg\" alt=\"Open In Colab\"/></a>"
      ]
    },
    {
      "cell_type": "code",
      "metadata": {
        "id": "xTO7W5BPdL5I",
        "outputId": "d33beea8-074a-4f1c-f594-6e2211d64b3a",
        "colab": {
          "base_uri": "https://localhost:8080/"
        }
      },
      "source": [
        "def add(x,y):\n",
        "    return x + y\n",
        "def substract(x,y):\n",
        "    return x - y\n",
        "def multiply(x, y):\n",
        "    return x * y\n",
        "def divide(x, y):\n",
        "    return x/y\n",
        " \n",
        "print(\"Select operation.\")\n",
        "print(\"1.Add\")\n",
        "print(\"2.Substract\")\n",
        "print(\"3.Multiply\")\n",
        "print(\"4.Divide\")\n",
        "choice = input(\"Enter choice 1/2/3/4:\")\n",
        " \n",
        "num1 = int(input(\"Enter first number: \"))\n",
        "num2 = int(input(\"Enter the second number: \"))\n",
        " \n",
        "if choice == '1':\n",
        "    print(num1, \"+\", num2, \"=\", add(num1,num2))\n",
        " \n",
        "elif choice == '2':\n",
        "    print(num1, \"-\", num2, \"=\", substract(num1,num2))\n",
        " \n",
        "elif choice == '3':\n",
        "    print(num1, \"×\", num2, \"=\", multiply(num1,num2))\n",
        " \n",
        "elif choice == '4':\n",
        "    print(num1, \"/\", num2, \"=\", divide(num1,num2))"
      ],
      "execution_count": 4,
      "outputs": [
        {
          "output_type": "stream",
          "name": "stdout",
          "text": [
            "Select operation.\n",
            "1.Add\n",
            "2.Substract\n",
            "3.Multiply\n",
            "4.Divide\n",
            "Enter choice 1/2/3/4:4\n",
            "Enter first number: 3\n",
            "Enter the second number: 4\n",
            "3 / 4 = 0.75\n"
          ]
        }
      ]
    }
  ]
}