{
  "nbformat": 4,
  "nbformat_minor": 0,
  "metadata": {
    "colab": {
      "name": "TASK 17.ipynb",
      "provenance": [],
      "include_colab_link": true
    },
    "kernelspec": {
      "name": "python3",
      "display_name": "Python 3"
    },
    "language_info": {
      "name": "python"
    }
  },
  "cells": [
    {
      "cell_type": "markdown",
      "metadata": {
        "id": "view-in-github",
        "colab_type": "text"
      },
      "source": [
        "<a href=\"https://colab.research.google.com/github/shahalaap/LEARN.PY/blob/main/TASK_17.ipynb\" target=\"_parent\"><img src=\"https://colab.research.google.com/assets/colab-badge.svg\" alt=\"Open In Colab\"/></a>"
      ]
    },
    {
      "cell_type": "markdown",
      "metadata": {
        "id": "0SLapvpoaeYY"
      },
      "source": [
        "1. Create a DataFrame by passing a random numpy array,with a datetie index and labelled columns.and display its,\n",
        "     - Head\n",
        "     - Tail\n",
        "     - Index \n",
        "     - Columns\n",
        "     - Values\n",
        "     - statistics\n"
      ]
    },
    {
      "cell_type": "code",
      "metadata": {
        "id": "zJDkjyVxa5yU",
        "outputId": "5bc7fe74-668f-46ca-b637-e01d8e632170",
        "colab": {
          "base_uri": "https://localhost:8080/"
        }
      },
      "source": [
        "#please type your answer below this line.\n",
        "import numpy as np\n",
        "import pandas as pd\n",
        " \n",
        "datetie = pd.date_range('2021-09-1',periods=6)\n",
        "df = pd.DataFrame(np.random.randn(6,4), index=datetie, columns=list('ABCD'))\n",
        "print(\"Head:\\n\", df.head())\n",
        " \n",
        "print(\"Tail:\\n\", df.tail())\n",
        " \n",
        "print(\"Index:\\n\", df.index)\n",
        " \n",
        "print(\"columns:\\n\", df.columns)\n",
        " \n",
        "print(\"Values:\\n\", df.values)\n",
        " \n",
        "print(\"Statistics:\\n\", df.describe(include='all'))"
      ],
      "execution_count": 5,
      "outputs": [
        {
          "output_type": "stream",
          "name": "stdout",
          "text": [
            "Head:\n",
            "                    A         B         C         D\n",
            "2021-09-01  1.419005  0.235743  0.164264 -0.615771\n",
            "2021-09-02  1.159845  0.436068  0.864610  1.373759\n",
            "2021-09-03 -0.063488 -0.425986 -1.237479  0.315324\n",
            "2021-09-04  0.226170 -0.386261 -0.830395  0.253994\n",
            "2021-09-05  0.272288 -0.441040  1.652580  0.716481\n",
            "Tail:\n",
            "                    A         B         C         D\n",
            "2021-09-02  1.159845  0.436068  0.864610  1.373759\n",
            "2021-09-03 -0.063488 -0.425986 -1.237479  0.315324\n",
            "2021-09-04  0.226170 -0.386261 -0.830395  0.253994\n",
            "2021-09-05  0.272288 -0.441040  1.652580  0.716481\n",
            "2021-09-06 -0.739335 -0.463058  0.780050  0.543737\n",
            "Index:\n",
            " DatetimeIndex(['2021-09-01', '2021-09-02', '2021-09-03', '2021-09-04',\n",
            "               '2021-09-05', '2021-09-06'],\n",
            "              dtype='datetime64[ns]', freq='D')\n",
            "columns:\n",
            " Index(['A', 'B', 'C', 'D'], dtype='object')\n",
            "Values:\n",
            " [[ 1.41900521  0.23574253  0.16426387 -0.61577056]\n",
            " [ 1.1598448   0.43606752  0.86460969  1.37375931]\n",
            " [-0.06348842 -0.42598583 -1.23747867  0.31532428]\n",
            " [ 0.22616987 -0.38626104 -0.83039537  0.25399402]\n",
            " [ 0.272288   -0.44104037  1.65257953  0.71648063]\n",
            " [-0.73933471 -0.46305808  0.78005003  0.54373662]]\n",
            "Statistics:\n",
            "               A         B         C         D\n",
            "count  6.000000  6.000000  6.000000  6.000000\n",
            "mean   0.379081 -0.174089  0.232272  0.431254\n",
            "std    0.796560  0.400871  1.096471  0.651682\n",
            "min   -0.739335 -0.463058 -1.237479 -0.615771\n",
            "25%    0.008926 -0.437277 -0.581731  0.269327\n",
            "50%    0.249229 -0.406123  0.472157  0.429530\n",
            "75%    0.937956  0.080242  0.843470  0.673295\n",
            "max    1.419005  0.436068  1.652580  1.373759\n"
          ]
        }
      ]
    },
    {
      "cell_type": "markdown",
      "metadata": {
        "id": "xnkA2mKDdyoO"
      },
      "source": [
        "2. Use the above table and,\n",
        "      - find transpose of your data.\n",
        "      - sort the index in the descending order of the date."
      ]
    },
    {
      "cell_type": "code",
      "metadata": {
        "id": "uqcQSEOufJ5P",
        "outputId": "1c6e57b0-2bd2-4b82-9e0a-1a18c03c3c5e",
        "colab": {
          "base_uri": "https://localhost:8080/"
        }
      },
      "source": [
        "#please provide your answer below this line.\n",
        "print(\"Transpose\\n\", df.transpose())\n",
        "print(\"sorted in Descending order\\n\", df.sort_index(ascending=False))"
      ],
      "execution_count": 6,
      "outputs": [
        {
          "output_type": "stream",
          "name": "stdout",
          "text": [
            "Transpose\n",
            "    2021-09-01  2021-09-02  2021-09-03  2021-09-04  2021-09-05  2021-09-06\n",
            "A    1.419005    1.159845   -0.063488    0.226170    0.272288   -0.739335\n",
            "B    0.235743    0.436068   -0.425986   -0.386261   -0.441040   -0.463058\n",
            "C    0.164264    0.864610   -1.237479   -0.830395    1.652580    0.780050\n",
            "D   -0.615771    1.373759    0.315324    0.253994    0.716481    0.543737\n",
            "sorted in Descending order\n",
            "                    A         B         C         D\n",
            "2021-09-06 -0.739335 -0.463058  0.780050  0.543737\n",
            "2021-09-05  0.272288 -0.441040  1.652580  0.716481\n",
            "2021-09-04  0.226170 -0.386261 -0.830395  0.253994\n",
            "2021-09-03 -0.063488 -0.425986 -1.237479  0.315324\n",
            "2021-09-02  1.159845  0.436068  0.864610  1.373759\n",
            "2021-09-01  1.419005  0.235743  0.164264 -0.615771\n"
          ]
        }
      ]
    },
    {
      "cell_type": "markdown",
      "metadata": {
        "id": "ss7s_8iDbAcL"
      },
      "source": [
        ""
      ]
    }
  ]
}