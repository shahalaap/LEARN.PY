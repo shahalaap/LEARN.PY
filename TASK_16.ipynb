{
  "nbformat": 4,
  "nbformat_minor": 0,
  "metadata": {
    "colab": {
      "name": "TASK 16.ipynb",
      "provenance": [],
      "include_colab_link": true
    },
    "kernelspec": {
      "name": "python3",
      "display_name": "Python 3"
    },
    "language_info": {
      "name": "python"
    }
  },
  "cells": [
    {
      "cell_type": "markdown",
      "metadata": {
        "id": "view-in-github",
        "colab_type": "text"
      },
      "source": [
        "<a href=\"https://colab.research.google.com/github/shahalaap/LEARN.PY/blob/main/TASK_16.ipynb\" target=\"_parent\"><img src=\"https://colab.research.google.com/assets/colab-badge.svg\" alt=\"Open In Colab\"/></a>"
      ]
    },
    {
      "cell_type": "markdown",
      "metadata": {
        "id": "acyipYglJ670"
      },
      "source": [
        "1. Given index=[\"India\",\"Pakistan\",\"Bangladesh\",\"Srilanka\",\"china\",\"Nepal\"] and data=[1,3,5,np.nan,6,8] . Create a table with the \"index\" as indices and data as values.\n",
        "\n",
        "      Expected output\n",
        "\n",
        "        India         1.0\n",
        "        Pakistan      3.0\n",
        "        Bangladesh    5.0\n",
        "        Srilanka      NaN\n",
        "        China         6.0\n",
        "        Nepal         8.0\n",
        "        Name: myseries, dtype: float64"
      ]
    },
    {
      "cell_type": "code",
      "metadata": {
        "id": "lk5t2eNkKLwL",
        "outputId": "76d091ae-68ae-437d-a89e-d9dcc99c5f9a",
        "colab": {
          "base_uri": "https://localhost:8080/"
        }
      },
      "source": [
        "#please type your answer below this line.\n",
        "import numpy as np\n",
        "import pandas as pd\n",
        "a = pd.Series([1,3,5,np.nan,6,8], index=[\"India\", \"Pakistan\", \"Bangladesh\", \"Srilanka\", \"China\", \"Nepal\"],name='myseries')\n",
        "print(a)"
      ],
      "execution_count": 3,
      "outputs": [
        {
          "output_type": "stream",
          "text": [
            "India         1.0\n",
            "Pakistan      3.0\n",
            "Bangladesh    5.0\n",
            "Srilanka      NaN\n",
            "China         6.0\n",
            "Nepal         8.0\n",
            "Name: myseries, dtype: float64\n"
          ],
          "name": "stdout"
        }
      ]
    },
    {
      "cell_type": "markdown",
      "metadata": {
        "id": "inxiNv1rLveT"
      },
      "source": [
        "2. Create a data 'dates' starting from 2021-01-01 with range 6. and create a random 6x4 array and a list=('ABCD').now create a dataframe with 'dates' as index and list as the column and data as the datas of this table.\n",
        "\n",
        "\n",
        "  Expected output\n",
        "\n",
        "                        A\t       B\t      C\t      D\n",
        "    2021-01-01\t-0.429358\t0.779826\t0.389625\t0.248792\n",
        "    2021-01-02\t-1.044721\t0.272807\t-0.370437\t1.177273\n",
        "    2021-01-03\t-0.961394\t-0.525376\t0.120843\t0.470060\n",
        "    2021-01-04\t1.842266\t-0.551049\t0.588390\t-0.326937\n",
        "    2021-01-05\t0.986198\t0.391301\t-0.084837\t-0.855573\n",
        "    2021-01-06\t-1.531207\t0.905463\t-0.099024\t0.589219\n",
        "\n"
      ]
    },
    {
      "cell_type": "code",
      "metadata": {
        "id": "TZYBxFJIRYVm",
        "outputId": "77c9196f-bb6c-433d-dfe5-307da981ab90",
        "colab": {
          "base_uri": "https://localhost:8080/"
        }
      },
      "source": [
        "#please type\n",
        "import numpy as np\n",
        "import pandas as pd\n",
        " \n",
        "dates = pd.date_range(\"20210101\", periods=6)\n",
        "df = pd.DataFrame(index=dates)\n",
        "df1 = df.copy()\n",
        "df1[\"A\"] = [\"-0.429358\",\"-1,044721\",\"-0.961394\",\"1.842266\",\"0.986198\",\"-1.531207\"]\n",
        "df2 = df1.copy()\n",
        "df2[\"B\"] = [\"0.779826\",\"0.272807\",\"-0.525376\",\"-0.551049\",\"0.391301\",\"0.905463\"]\n",
        "df3 = df2.copy()\n",
        "df3[\"C\"] = [\"0.389625\",\"-0.370437\",\"0.120843\",\"0.588390\",\"-0.084837\",\"-0.099024\"]\n",
        "df4 = df3.copy()\n",
        "df4[\"D\"] = [\"0.248792\",\"1.177273\",\"0.470060\",\"-0.326937\",\"-0.855573\",\"0.589219\"]\n",
        "print(df4)"
      ],
      "execution_count": 7,
      "outputs": [
        {
          "output_type": "stream",
          "text": [
            "                    A          B          C          D\n",
            "2021-01-01  -0.429358   0.779826   0.389625   0.248792\n",
            "2021-01-02  -1,044721   0.272807  -0.370437   1.177273\n",
            "2021-01-03  -0.961394  -0.525376   0.120843   0.470060\n",
            "2021-01-04   1.842266  -0.551049   0.588390  -0.326937\n",
            "2021-01-05   0.986198   0.391301  -0.084837  -0.855573\n",
            "2021-01-06  -1.531207   0.905463  -0.099024   0.589219\n"
          ],
          "name": "stdout"
        }
      ]
    }
  ]
}