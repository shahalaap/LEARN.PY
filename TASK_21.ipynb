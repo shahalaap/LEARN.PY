{
  "nbformat": 4,
  "nbformat_minor": 0,
  "metadata": {
    "colab": {
      "name": "TASK 21.ipynb",
      "provenance": [],
      "include_colab_link": true
    },
    "kernelspec": {
      "name": "python3",
      "display_name": "Python 3"
    },
    "language_info": {
      "name": "python"
    }
  },
  "cells": [
    {
      "cell_type": "markdown",
      "metadata": {
        "id": "view-in-github",
        "colab_type": "text"
      },
      "source": [
        "<a href=\"https://colab.research.google.com/github/shahalaap/LEARN.PY/blob/main/TASK_21.ipynb\" target=\"_parent\"><img src=\"https://colab.research.google.com/assets/colab-badge.svg\" alt=\"Open In Colab\"/></a>"
      ]
    },
    {
      "cell_type": "markdown",
      "metadata": {
        "id": "wK9sv7fHTnyo"
      },
      "source": [
        "1.  Using the dataset given below,\n",
        "  - Group the given dataset by A and find the sum of the groups.\n",
        "  - Find the 3 least elements from the column D\n",
        "  - Find the 3 largest elements from the Column D which belongs to the group\n",
        "  'bar'."
      ]
    },
    {
      "cell_type": "code",
      "metadata": {
        "id": "C_Kq4i_rVNyB",
        "colab": {
          "base_uri": "https://localhost:8080/"
        },
        "outputId": "b22b8735-9c9b-48e4-950b-9ec2ba4a7360"
      },
      "source": [
        "import pandas as pd\n",
        "import numpy as np\n",
        "df = pd.DataFrame({'A' : ['foo', 'bar', 'foo', 'bar',\n",
        "                          'foo', 'bar', 'foo', 'foo'],\n",
        "                   'B' : ['one', 'one', 'two', 'three',\n",
        "                          'two', 'two', 'one', 'three'],\n",
        "                   'C' : np.random.randn(8),\n",
        "                   'D' : np.random.randn(8)})\n",
        "df\n",
        "#please type your code below this line.\n",
        " \n",
        "print(df)\n",
        " \n",
        "df1 = df.groupby(\"A\").sum()\n",
        "print(df1)\n",
        " \n",
        "df2 = df.sort_values(\"D\")\n",
        "df3 = df2.iloc[:3]\n",
        "print(df3)\n",
        " \n",
        "df4 = df.sort_values(by=\"D\", ascending=False)\n",
        "df5 = df4.iloc[:3]\n",
        "print(df5)"
      ],
      "execution_count": 17,
      "outputs": [
        {
          "output_type": "stream",
          "name": "stdout",
          "text": [
            "     A      B         C         D\n",
            "0  foo    one  0.904532  0.362100\n",
            "1  bar    one  0.544510 -1.424838\n",
            "2  foo    two -2.688119 -0.282985\n",
            "3  bar  three -0.511399  0.475511\n",
            "4  foo    two  2.660459 -0.823301\n",
            "5  bar    two  0.564120  0.149095\n",
            "6  foo    one  1.409855  0.077698\n",
            "7  foo  three -0.614445 -0.458327\n",
            "            C         D\n",
            "A                      \n",
            "bar  0.597230 -0.800232\n",
            "foo  1.672281 -1.124814\n",
            "     A      B         C         D\n",
            "1  bar    one  0.544510 -1.424838\n",
            "4  foo    two  2.660459 -0.823301\n",
            "7  foo  three -0.614445 -0.458327\n",
            "     A      B         C         D\n",
            "3  bar  three -0.511399  0.475511\n",
            "0  foo    one  0.904532  0.362100\n",
            "5  bar    two  0.564120  0.149095\n"
          ]
        }
      ]
    },
    {
      "cell_type": "markdown",
      "metadata": {
        "id": "68XLHGsrdHXb"
      },
      "source": [
        "2. Using the dataset given below,\n",
        "  - convert the dataset into a csv file.\n",
        "  - read the csv file just saved\n",
        "  - covert the dataset into a excel file.\n",
        "  - read the excel file just saved."
      ]
    },
    {
      "cell_type": "code",
      "metadata": {
        "id": "J4BOx3UZdVLV",
        "colab": {
          "base_uri": "https://localhost:8080/"
        },
        "outputId": "bc32742a-c6c2-458d-c59a-fa6b4dcd0ff8"
      },
      "source": [
        "import pandas as pd\n",
        "import numpy as np\n",
        "df = pd.DataFrame({'A' : ['foo', 'bar', 'foo', 'bar',\n",
        "                          'foo', 'bar', 'foo', 'foo'],\n",
        "                   'B' : ['one', 'one', 'two', 'three',\n",
        "                          'two', 'two', 'one', 'three'],\n",
        "                   'C' : np.random.randn(8),\n",
        "                   'D' : np.random.randn(8)})\n",
        "#please type your code below this line.\n",
        " \n",
        "df1 = df.to_csv()\n",
        "print(df1)\n",
        " \n",
        "df2 = pd.read_csv(\"foo.csv\")\n",
        "print(df2)\n",
        " \n",
        "df3 = df.to_excel(\"foo.xlsx\", sheet_name=\"sheet1\")\n",
        "print(df3)\n",
        " \n",
        "df4 = pd.read_excel(\"foo.xlsx\", \"sheet1\")\n",
        "print(df4)"
      ],
      "execution_count": null,
      "outputs": [
        {
          "output_type": "stream",
          "name": "stdout",
          "text": [
            ",A,B,C,D\n",
            "0,foo,one,-0.7116536240124062,-0.05525166706800438\n",
            "1,bar,one,-0.016147302663343747,-0.518310222260294\n",
            "2,foo,two,0.6286213413014247,1.588477138038111\n",
            "3,bar,three,-0.6120040603693605,-0.5659430832384572\n",
            "4,foo,two,-0.22615617292497242,1.535623449827798\n",
            "5,bar,two,1.5116526210909558,0.3583750394923093\n",
            "6,foo,one,0.6344765742951112,1.342054246537436\n",
            "7,foo,three,-0.2961101395672205,0.14877773037406047\n",
            "\n",
            "   Unnamed: 0    A      B         C         D\n",
            "0           0  foo    one -2.260767 -0.101156\n",
            "1           1  bar    one  0.446177 -0.035546\n",
            "2           2  foo    two  0.104895  0.952601\n",
            "3           3  bar  three  1.613661  0.108542\n",
            "4           4  foo    two -0.117399  0.519985\n",
            "5           5  bar    two -0.991920 -0.288302\n",
            "6           6  foo    one  1.250610 -1.217616\n",
            "7           7  foo  three  0.814619  1.369759\n",
            "None\n",
            "   Unnamed: 0    A      B         C         D\n",
            "0           0  foo    one -0.711654 -0.055252\n",
            "1           1  bar    one -0.016147 -0.518310\n",
            "2           2  foo    two  0.628621  1.588477\n",
            "3           3  bar  three -0.612004 -0.565943\n",
            "4           4  foo    two -0.226156  1.535623\n",
            "5           5  bar    two  1.511653  0.358375\n",
            "6           6  foo    one  0.634477  1.342054\n",
            "7           7  foo  three -0.296110  0.148778\n"
          ]
        }
      ]
    }
  ]
}