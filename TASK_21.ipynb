{
  "nbformat": 4,
  "nbformat_minor": 0,
  "metadata": {
    "colab": {
      "name": "TASK 21.ipynb",
      "provenance": [],
      "include_colab_link": true
    },
    "kernelspec": {
      "name": "python3",
      "display_name": "Python 3"
    },
    "language_info": {
      "name": "python"
    }
  },
  "cells": [
    {
      "cell_type": "markdown",
      "metadata": {
        "id": "view-in-github",
        "colab_type": "text"
      },
      "source": [
        "<a href=\"https://colab.research.google.com/github/shahalaap/LEARN.PY/blob/main/TASK_21.ipynb\" target=\"_parent\"><img src=\"https://colab.research.google.com/assets/colab-badge.svg\" alt=\"Open In Colab\"/></a>"
      ]
    },
    {
      "cell_type": "markdown",
      "metadata": {
        "id": "wK9sv7fHTnyo"
      },
      "source": [
        "1.  Using the dataset given below,\n",
        "  - Group the given dataset by A and find the sum of the groups.\n",
        "  - Find the 3 least elements from the column D\n",
        "  - Find the 3 largest elements from the Column D which belongs to the group\n",
        "  'bar'."
      ]
    },
    {
      "cell_type": "code",
      "metadata": {
        "id": "C_Kq4i_rVNyB",
        "colab": {
          "base_uri": "https://localhost:8080/"
        },
        "outputId": "989ab662-c21b-45b1-bcef-fa53e244f25f"
      },
      "source": [
        "import pandas as pd\n",
        "import numpy as np\n",
        "df = pd.DataFrame({'A' : ['foo', 'bar', 'foo', 'bar',\n",
        "                          'foo', 'bar', 'foo', 'foo'],\n",
        "                   'B' : ['one', 'one', 'two', 'three',\n",
        "                          'two', 'two', 'one', 'three'],\n",
        "                   'C' : np.random.randn(8),\n",
        "                   'D' : np.random.randn(8)})\n",
        "df\n",
        "#please type your code below this line.\n",
        " \n",
        "print(df)\n",
        " \n",
        "df1 = df.groupby(\"A\").sum()\n",
        "print(df1)\n",
        " \n",
        "df2 = df.sort_values(\"D\")\n",
        "df3 = df2.iloc[:3]\n",
        "print(df3)\n",
        " \n",
        "df4 = df.sort_values(by=\"D\", ascending=False)\n",
        "df5 = df4[df.A==\"bar\"].head()\n",
        "print(df5)"
      ],
      "execution_count": null,
      "outputs": [
        {
          "output_type": "stream",
          "name": "stdout",
          "text": [
            "     A      B         C         D\n",
            "0  foo    one  1.031409  2.192100\n",
            "1  bar    one  0.714544 -1.432233\n",
            "2  foo    two -0.868622 -0.343376\n",
            "3  bar  three  0.180830 -0.064365\n",
            "4  foo    two  0.846583  0.567687\n",
            "5  bar    two -1.287694  0.086664\n",
            "6  foo    one  1.191548  1.270687\n",
            "7  foo  three -1.855236  0.265448\n",
            "            C         D\n",
            "A                      \n",
            "bar -0.392320 -1.409934\n",
            "foo  0.345682  3.952546\n",
            "     A      B         C         D\n",
            "1  bar    one  0.714544 -1.432233\n",
            "2  foo    two -0.868622 -0.343376\n",
            "3  bar  three  0.180830 -0.064365\n",
            "     A      B         C         D\n",
            "5  bar    two -1.287694  0.086664\n",
            "3  bar  three  0.180830 -0.064365\n",
            "1  bar    one  0.714544 -1.432233\n"
          ]
        },
        {
          "output_type": "stream",
          "name": "stderr",
          "text": [
            "/usr/local/lib/python3.7/dist-packages/ipykernel_launcher.py:22: UserWarning: Boolean Series key will be reindexed to match DataFrame index.\n"
          ]
        }
      ]
    },
    {
      "cell_type": "markdown",
      "metadata": {
        "id": "68XLHGsrdHXb"
      },
      "source": [
        "2. Using the dataset given below,\n",
        "  - convert the dataset into a csv file.\n",
        "  - read the csv file just saved\n",
        "  - covert the dataset into a excel file.\n",
        "  - read the excel file just saved."
      ]
    },
    {
      "cell_type": "code",
      "metadata": {
        "id": "J4BOx3UZdVLV",
        "colab": {
          "base_uri": "https://localhost:8080/"
        },
        "outputId": "4c5aed42-012b-436a-d3db-2572cc28b0ca"
      },
      "source": [
        "import pandas as pd\n",
        "import numpy as np\n",
        "df = pd.DataFrame({'A' : ['foo', 'bar', 'foo', 'bar',\n",
        "                          'foo', 'bar', 'foo', 'foo'],\n",
        "                   'B' : ['one', 'one', 'two', 'three',\n",
        "                          'two', 'two', 'one', 'three'],\n",
        "                   'C' : np.random.randn(8),\n",
        "                   'D' : np.random.randn(8)})\n",
        "#please type your code below this line.\n",
        " \n",
        "df1 = df.to_csv('csvFile.csv')\n",
        "print(df1)\n",
        " \n",
        "df2 = pd.read_csv('csvFile.csv')\n",
        "print(df2)\n",
        " \n",
        "df3 = df.to_excel('excelFile.xlsx')\n",
        "print(df3)\n",
        " \n",
        "df4 = pd.read_excel('excelFile.xlsx')\n",
        "print(df4)"
      ],
      "execution_count": 2,
      "outputs": [
        {
          "output_type": "stream",
          "name": "stdout",
          "text": [
            "None\n",
            "   Unnamed: 0    A      B         C         D\n",
            "0           0  foo    one  0.363174  0.128416\n",
            "1           1  bar    one  1.955144 -1.070189\n",
            "2           2  foo    two -0.788577 -1.698547\n",
            "3           3  bar  three -0.045479 -1.712366\n",
            "4           4  foo    two  0.378395  1.978802\n",
            "5           5  bar    two -0.934638 -0.994281\n",
            "6           6  foo    one  0.071831 -0.628801\n",
            "7           7  foo  three  0.133441 -1.616916\n",
            "None\n",
            "   Unnamed: 0    A      B         C         D\n",
            "0           0  foo    one  0.363174  0.128416\n",
            "1           1  bar    one  1.955144 -1.070189\n",
            "2           2  foo    two -0.788577 -1.698547\n",
            "3           3  bar  three -0.045479 -1.712366\n",
            "4           4  foo    two  0.378395  1.978802\n",
            "5           5  bar    two -0.934638 -0.994281\n",
            "6           6  foo    one  0.071831 -0.628801\n",
            "7           7  foo  three  0.133441 -1.616916\n"
          ]
        }
      ]
    }
  ]
}