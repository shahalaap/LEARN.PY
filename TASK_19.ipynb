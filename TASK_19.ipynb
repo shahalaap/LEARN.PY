{
  "nbformat": 4,
  "nbformat_minor": 0,
  "metadata": {
    "colab": {
      "name": "TASK 19.ipynb",
      "provenance": [],
      "include_colab_link": true
    },
    "kernelspec": {
      "name": "python3",
      "display_name": "Python 3"
    },
    "language_info": {
      "name": "python"
    }
  },
  "cells": [
    {
      "cell_type": "markdown",
      "metadata": {
        "id": "view-in-github",
        "colab_type": "text"
      },
      "source": [
        "<a href=\"https://colab.research.google.com/github/shahalaap/LEARN.PY/blob/main/TASK_19.ipynb\" target=\"_parent\"><img src=\"https://colab.research.google.com/assets/colab-badge.svg\" alt=\"Open In Colab\"/></a>"
      ]
    },
    {
      "cell_type": "markdown",
      "metadata": {
        "id": "6J-6GvX2JUcC"
      },
      "source": [
        "1. Create a DataFrame by passing a random numpy array,with a dateted index and labelled columns and display,\n",
        "  - where values of the column A is greater than 0.\n",
        "  - where values of the columns A is greater than 0 and B greater than -1.\n",
        "  - where values of the columns A  is greater than 0 or B greater than -1.\n"
      ]
    },
    {
      "cell_type": "code",
      "metadata": {
        "id": "xX-5VikpLcHL",
        "outputId": "347db386-e153-4f1c-cff3-e51e874ab2b2",
        "colab": {
          "base_uri": "https://localhost:8080/"
        }
      },
      "source": [
        "#please type your code below this line.\n",
        " \n",
        "import numpy as np\n",
        "import pandas as pd\n",
        " \n",
        "date = pd.date_range('2021-09-01',periods=4)\n",
        "df = pd.DataFrame(np.random.randn(4,2), index=date, columns=list('AB'))\n",
        "print(df)\n",
        " \n",
        "df1 = df['A']>0\n",
        "print(df1)\n",
        " \n",
        "df2 = df[(df.A > 0) & (df.B > -1)]\n",
        "print(df2)\n",
        " \n",
        "df3 = df[(df.A > 0) | (df.B > -1)]\n",
        "print(df3)"
      ],
      "execution_count": 2,
      "outputs": [
        {
          "output_type": "stream",
          "name": "stdout",
          "text": [
            "                   A         B\n",
            "2021-09-01 -0.084018 -0.437074\n",
            "2021-09-02 -0.234861  1.962472\n",
            "2021-09-03  0.436068 -0.502621\n",
            "2021-09-04 -0.729452  0.695446\n",
            "2021-09-01    False\n",
            "2021-09-02    False\n",
            "2021-09-03     True\n",
            "2021-09-04    False\n",
            "Freq: D, Name: A, dtype: bool\n",
            "                   A         B\n",
            "2021-09-03  0.436068 -0.502621\n",
            "                   A         B\n",
            "2021-09-01 -0.084018 -0.437074\n",
            "2021-09-02 -0.234861  1.962472\n",
            "2021-09-03  0.436068 -0.502621\n",
            "2021-09-04 -0.729452  0.695446\n"
          ]
        }
      ]
    },
    {
      "cell_type": "markdown",
      "metadata": {
        "id": "1WAf9SbwLp6o"
      },
      "source": [
        "2. Create a DataFrame by passing a random numpy array,with a dateted index and labelled columns and check if ,\n",
        "  - the values of the table are greater the zero or not.\n",
        "  - the value at the postion (0,0) is equal to NaN or not."
      ]
    },
    {
      "cell_type": "code",
      "metadata": {
        "id": "rBrt8pMeM2Q5",
        "outputId": "b8eed59b-c4b6-48e3-ccfe-95e482d604d0",
        "colab": {
          "base_uri": "https://localhost:8080/"
        }
      },
      "source": [
        "#please type your code below this line.\n",
        "import numpy as np\n",
        "import pandas as pd\n",
        "from numpy import NaN\n",
        " \n",
        "print(df)\n",
        " \n",
        "print(\"1)\")\n",
        "df1 = df[df>0]\n",
        "print(df1)\n",
        " \n",
        "print(\"2)\")\n",
        "df2 = df.iloc[0,0]==NaN\n",
        "print(df2)"
      ],
      "execution_count": 3,
      "outputs": [
        {
          "output_type": "stream",
          "name": "stdout",
          "text": [
            "                   A         B\n",
            "2021-09-01 -0.084018 -0.437074\n",
            "2021-09-02 -0.234861  1.962472\n",
            "2021-09-03  0.436068 -0.502621\n",
            "2021-09-04 -0.729452  0.695446\n",
            "1)\n",
            "                   A         B\n",
            "2021-09-01       NaN       NaN\n",
            "2021-09-02       NaN  1.962472\n",
            "2021-09-03  0.436068       NaN\n",
            "2021-09-04       NaN  0.695446\n",
            "2)\n",
            "False\n"
          ]
        }
      ]
    },
    {
      "cell_type": "markdown",
      "metadata": {
        "id": "IfM9XYmiNaKB"
      },
      "source": [
        "3. Create a DataFrame by passing a random numpy array,with a dateted index and labelled columns and,\n",
        "  - reindex the index with even dates.\n",
        "  - create a column with values NaN.\n",
        "  - make the values of the first two index of the newly created column as 1"
      ]
    },
    {
      "cell_type": "code",
      "metadata": {
        "id": "F-w8kEfaORg3",
        "outputId": "0efb4f23-b08a-4191-f58f-d8d7f6d4153a",
        "colab": {
          "base_uri": "https://localhost:8080/"
        }
      },
      "source": [
        "#please type your answer below this line.\n",
        "import numpy as np\n",
        "import pandas as pd\n",
        "from numpy import NaN\n",
        " \n",
        "print(df)\n",
        " \n",
        "dates = ['2021-09-02','2021-09-04','2021-09-06','2021-09-08']\n",
        "df1 = df.reindex(index=dates)\n",
        "print(df1)\n",
        " \n",
        "list = ['A','B','C']\n",
        "df2 = df.reindex(list, axis = 'columns')\n",
        "print(df2)\n",
        " \n",
        "df3[\"C\"] = [\"1\",\"1\",\"NaN\",\"NaN\"]\n",
        "print(df3)"
      ],
      "execution_count": 14,
      "outputs": [
        {
          "output_type": "stream",
          "name": "stdout",
          "text": [
            "                   A         B\n",
            "2021-09-01 -0.084018 -0.437074\n",
            "2021-09-02 -0.234861  1.962472\n",
            "2021-09-03  0.436068 -0.502621\n",
            "2021-09-04 -0.729452  0.695446\n",
            "             A   B\n",
            "2021-09-02 NaN NaN\n",
            "2021-09-04 NaN NaN\n",
            "2021-09-06 NaN NaN\n",
            "2021-09-08 NaN NaN\n",
            "                   A         B   C\n",
            "2021-09-01 -0.084018 -0.437074 NaN\n",
            "2021-09-02 -0.234861  1.962472 NaN\n",
            "2021-09-03  0.436068 -0.502621 NaN\n",
            "2021-09-04 -0.729452  0.695446 NaN\n",
            "                   A         B    C\n",
            "2021-09-01 -0.084018 -0.437074    1\n",
            "2021-09-02 -0.234861  1.962472    1\n",
            "2021-09-03  0.436068 -0.502621  NaN\n",
            "2021-09-04 -0.729452  0.695446  NaN\n"
          ]
        }
      ]
    }
  ]
}