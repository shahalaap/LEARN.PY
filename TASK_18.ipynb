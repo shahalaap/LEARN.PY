{
  "nbformat": 4,
  "nbformat_minor": 0,
  "metadata": {
    "colab": {
      "name": "TASK 18.ipynb",
      "provenance": [],
      "include_colab_link": true
    },
    "kernelspec": {
      "name": "python3",
      "display_name": "Python 3"
    },
    "language_info": {
      "name": "python"
    }
  },
  "cells": [
    {
      "cell_type": "markdown",
      "metadata": {
        "id": "view-in-github",
        "colab_type": "text"
      },
      "source": [
        "<a href=\"https://colab.research.google.com/github/shahalaap/LEARN.PY/blob/main/TASK_18.ipynb\" target=\"_parent\"><img src=\"https://colab.research.google.com/assets/colab-badge.svg\" alt=\"Open In Colab\"/></a>"
      ]
    },
    {
      "cell_type": "markdown",
      "metadata": {
        "id": "_JgXT8pEAjU4"
      },
      "source": [
        "1. \n",
        "Create a DataFrame by passing a random numpy array,with a datetie index and labelled columns.and,\n",
        "    - slice its first three rows and display.\n",
        "    - slice its odd indexed rows.\n",
        "    - display the dates from 1st postion to 4 th position."
      ]
    },
    {
      "cell_type": "code",
      "metadata": {
        "id": "5zFM5VOJBKBV",
        "outputId": "c3f3b872-e013-4f7b-8953-be846a300bbd",
        "colab": {
          "base_uri": "https://localhost:8080/"
        }
      },
      "source": [
        "#please provide your answer below this line.\n",
        "import numpy as np\n",
        "import pandas as pd\n",
        "datetie = pd.date_range('2021-09-01',periods=6)\n",
        "df = pd.DataFrame(np.random.randn(6,6), index=datetie, columns=list('ABCDEF'))\n",
        "df1 = df.iloc[0:3]\n",
        "print(\"First 3 rows\")\n",
        "print(df1)\n",
        " \n",
        "df2 = df.iloc[0::2]\n",
        "print(\"Odd indexed rows\")\n",
        "print(df2)\n",
        " \n",
        "df3 = df.iloc[1:4,0:0]\n",
        "print(\"Dates from 1st position to 4th position\")\n",
        "print(df3)"
      ],
      "execution_count": 42,
      "outputs": [
        {
          "output_type": "stream",
          "name": "stdout",
          "text": [
            "First 3 rows\n",
            "                   A         B         C         D         E         F\n",
            "2021-09-01  0.570515  0.057661 -1.576694 -1.342467  0.050194 -0.842684\n",
            "2021-09-02  1.316828 -2.105754  0.527329 -0.838570  0.344209  0.399053\n",
            "2021-09-03  1.071840  0.886111  1.520118 -0.169197 -0.853116  0.044362\n",
            "Odd indexed rows\n",
            "                   A         B         C         D         E         F\n",
            "2021-09-01  0.570515  0.057661 -1.576694 -1.342467  0.050194 -0.842684\n",
            "2021-09-03  1.071840  0.886111  1.520118 -0.169197 -0.853116  0.044362\n",
            "2021-09-05  0.576581  1.318770 -0.174706 -0.125234 -2.739727  0.626692\n",
            "Dates from 1st position to 4th position\n",
            "Empty DataFrame\n",
            "Columns: []\n",
            "Index: [2021-09-02 00:00:00, 2021-09-03 00:00:00, 2021-09-04 00:00:00]\n"
          ]
        }
      ]
    },
    {
      "cell_type": "markdown",
      "metadata": {
        "id": "QuoucvjxBPmX"
      },
      "source": [
        "2. Create a DataFrame by passing a random numpy array,with a datetie index and labelled columns.and\n",
        "  - Dislplay the index from the 1 to 3 date and the columns A and B of respective data.\n",
        "  - Display the datas at the 3rd index.\n",
        "  - Display datas from 2nd to 5th.\n",
        "  - Display the datas from the index 1,2,4 and the column 0 and 2."
      ]
    },
    {
      "cell_type": "code",
      "metadata": {
        "id": "qV_wzsp1DUKI",
        "outputId": "4614e5bf-de21-4d7c-e8a6-e592c3459f10",
        "colab": {
          "base_uri": "https://localhost:8080/"
        }
      },
      "source": [
        "#please provide your answer below this line.\n",
        "df1 = df.loc[['2021-09-02','2021-09-03','2021-09-04'],['A','B']]\n",
        "print(df1)\n",
        " \n",
        "df2 = df.loc['2021-09-04']\n",
        "print(\"Datas at the 3rd index\")\n",
        "print(df2)\n",
        " \n",
        "df3 = df.loc[['2021-09-03','2021-09-04','2021-09-05','2021-09-06']]\n",
        "print(\"Datas from index 2nd to 5th\")\n",
        "print(df3)\n",
        " \n",
        "df4 = df.loc[['2021-09-02','2021-09-03','2021-09-05'],['A','C']]\n",
        "print(\"Datas from the index 1,2,4 and the column 0 and 2\")\n",
        "print(df4)"
      ],
      "execution_count": 66,
      "outputs": [
        {
          "output_type": "stream",
          "name": "stdout",
          "text": [
            "                   A         B\n",
            "2021-09-02  1.316828 -2.105754\n",
            "2021-09-03  1.071840  0.886111\n",
            "2021-09-04 -1.833085  0.160287\n",
            "Datas at the 3rd index\n",
            "A   -1.833085\n",
            "B    0.160287\n",
            "C   -1.643017\n",
            "D    1.076006\n",
            "E   -2.246836\n",
            "F    1.332752\n",
            "Name: 2021-09-04 00:00:00, dtype: float64\n",
            "Datas from index 2nd to 5th\n",
            "                   A         B         C         D         E         F\n",
            "2021-09-03  1.071840  0.886111  1.520118 -0.169197 -0.853116  0.044362\n",
            "2021-09-04 -1.833085  0.160287 -1.643017  1.076006 -2.246836  1.332752\n",
            "2021-09-05  0.576581  1.318770 -0.174706 -0.125234 -2.739727  0.626692\n",
            "2021-09-06  1.192360  0.093590 -0.896267  1.039948 -0.205328  0.178863\n",
            "Datas from the index 1,2,4 and the column 0 and 2\n",
            "                   A         C\n",
            "2021-09-02  1.316828  0.527329\n",
            "2021-09-03  1.071840  1.520118\n",
            "2021-09-05  0.576581 -0.174706\n"
          ]
        }
      ]
    }
  ]
}