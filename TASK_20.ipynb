{
  "nbformat": 4,
  "nbformat_minor": 0,
  "metadata": {
    "colab": {
      "name": "TASK 20.ipynb",
      "provenance": [],
      "include_colab_link": true
    },
    "kernelspec": {
      "name": "python3",
      "display_name": "Python 3"
    },
    "language_info": {
      "name": "python"
    }
  },
  "cells": [
    {
      "cell_type": "markdown",
      "metadata": {
        "id": "view-in-github",
        "colab_type": "text"
      },
      "source": [
        "<a href=\"https://colab.research.google.com/github/shahalaap/LEARN.PY/blob/main/TASK_20.ipynb\" target=\"_parent\"><img src=\"https://colab.research.google.com/assets/colab-badge.svg\" alt=\"Open In Colab\"/></a>"
      ]
    },
    {
      "cell_type": "markdown",
      "metadata": {
        "id": "8LIfdcjDWmC3"
      },
      "source": [
        "1. In the data given below,\n",
        "  - find the boolean mask where value is nan\n",
        "  - remove the row with missing data.\n"
      ]
    },
    {
      "cell_type": "markdown",
      "metadata": {
        "id": "VPCGISRTbYPz"
      },
      "source": [
        ""
      ]
    },
    {
      "cell_type": "code",
      "metadata": {
        "colab": {
          "base_uri": "https://localhost:8080/"
        },
        "id": "VsZQYRqXXHpG",
        "outputId": "734e65bf-0a14-48e7-fc96-6ac88a8ce79e"
      },
      "source": [
        "import pandas as pd\n",
        "import numpy as np\n",
        "dates = pd.date_range('20210101',periods=6)\n",
        "df = pd.DataFrame(np.random.randn(6,4), index=dates,columns=list('ABCD'))\n",
        "s1 = pd.Series([1,2,3,4,5,6], index=pd.date_range('20130102', periods=6))\n",
        "df[\"F\"]=s1\n",
        "df1=df.reindex(index=dates[0:4], columns=list(df.columns) + ['E'])\n",
        "df1.loc[dates[0]:dates[1],'E'] = 1\n",
        "df1\n",
        "#please provide your answer below this line\n",
        "print(df1)\n",
        " \n",
        "df2 = pd.isna(df1)\n",
        "print(df2)\n",
        " \n",
        "df3 = df1.dropna(how=\"any\")\n",
        "print(df3)"
      ],
      "execution_count": null,
      "outputs": [
        {
          "output_type": "stream",
          "name": "stdout",
          "text": [
            "                   A         B         C         D   F    E\n",
            "2021-01-01  0.785954  1.238811 -0.453173 -0.805107 NaN  1.0\n",
            "2021-01-02 -1.603403 -1.067831 -0.507299 -0.821799 NaN  1.0\n",
            "2021-01-03 -0.199164 -0.739476  0.685327  0.736993 NaN  NaN\n",
            "2021-01-04  0.321536 -0.493125 -0.015286 -0.742782 NaN  NaN\n",
            "                A      B      C      D     F      E\n",
            "2021-01-01  False  False  False  False  True  False\n",
            "2021-01-02  False  False  False  False  True  False\n",
            "2021-01-03  False  False  False  False  True   True\n",
            "2021-01-04  False  False  False  False  True   True\n",
            "Empty DataFrame\n",
            "Columns: [A, B, C, D, F, E]\n",
            "Index: []\n"
          ]
        }
      ]
    },
    {
      "cell_type": "markdown",
      "metadata": {
        "id": "z1sv0aluZhcd"
      },
      "source": [
        "2. In the data given below,fill the missing data with 20."
      ]
    },
    {
      "cell_type": "code",
      "metadata": {
        "colab": {
          "base_uri": "https://localhost:8080/"
        },
        "id": "x3ZHFCeyZ0j2",
        "outputId": "3230b856-27f8-4375-f1ab-5d7020f1c064"
      },
      "source": [
        "import pandas as pd\n",
        "import numpy as np\n",
        "dates = pd.date_range('20210101',periods=6)\n",
        "df = pd.DataFrame(np.random.randn(6,4), index=dates,columns=list('ABCD'))\n",
        "s1 = pd.Series([1,2,3,4,5,6], index=pd.date_range('20130102', periods=6))\n",
        "df[\"F\"]=s1\n",
        "df1=df.reindex(index=dates[0:4], columns=list(df.columns) + ['E'])\n",
        "df1.loc[dates[0]:dates[1],'E'] = 1\n",
        "df1\n",
        "#please provide your answer below this line\n",
        "print(df1)\n",
        " \n",
        "df2 = df1.fillna(value=20)\n",
        "print(df2)"
      ],
      "execution_count": null,
      "outputs": [
        {
          "output_type": "stream",
          "name": "stdout",
          "text": [
            "                   A         B         C         D   F    E\n",
            "2021-01-01 -0.191754  0.389817  0.318287  0.596052 NaN  1.0\n",
            "2021-01-02 -1.699423  0.972720 -0.125832  1.429840 NaN  1.0\n",
            "2021-01-03  1.031715  0.283456 -0.901109 -1.652150 NaN  NaN\n",
            "2021-01-04  0.649550  2.568292 -1.660034  0.342891 NaN  NaN\n",
            "                   A         B         C         D     F     E\n",
            "2021-01-01 -0.191754  0.389817  0.318287  0.596052  20.0   1.0\n",
            "2021-01-02 -1.699423  0.972720 -0.125832  1.429840  20.0   1.0\n",
            "2021-01-03  1.031715  0.283456 -0.901109 -1.652150  20.0  20.0\n",
            "2021-01-04  0.649550  2.568292 -1.660034  0.342891  20.0  20.0\n"
          ]
        }
      ]
    },
    {
      "cell_type": "markdown",
      "metadata": {
        "id": "vMzwvpxcZ3G8"
      },
      "source": [
        "3. From the data given below,\n",
        "  - break the data in to pieces from 0 t0 2 ,3 t0 7\n",
        "  - concatenate the pieces.\n",
        "  - concatenate the pieces along axis 1\n",
        "  - label each as 'a' and 'b' respectively and perform concatenation."
      ]
    },
    {
      "cell_type": "code",
      "metadata": {
        "colab": {
          "base_uri": "https://localhost:8080/"
        },
        "id": "LxGwKPTVbbXV",
        "outputId": "864557ab-530d-472e-ac0d-dcbc2245c22c"
      },
      "source": [
        "import pandas as pd\n",
        "import numpy as np\n",
        "df = pd.DataFrame(np.random.randn(10, 4))\n",
        "df\n",
        "#please provide your answer below this line\n",
        "print(df)\n",
        " \n",
        "df1 = df[0:2]\n",
        "df2 = df[3:7]\n",
        " \n",
        "pieces = [df[0:2], df[3:7]]\n",
        " \n",
        " \n",
        "df3 = pd.concat([df1,df2])\n",
        "print(df3)\n",
        " \n",
        "df4 = pd.concat([df1,df2], axis=1)\n",
        "print(df4)\n",
        " \n",
        "df5 = pd.concat(pieces, keys=[\"a\", \"b\"])\n",
        "print(df5)"
      ],
      "execution_count": 3,
      "outputs": [
        {
          "output_type": "stream",
          "name": "stdout",
          "text": [
            "          0         1         2         3\n",
            "0  0.361508  1.023273 -0.290935  1.605899\n",
            "1  0.201344  0.624259  3.129523  0.385142\n",
            "2 -0.826272  1.466351  1.030199  0.751164\n",
            "3  0.195447  1.540041 -0.745099  0.178814\n",
            "4  1.032677  0.090299  1.914545 -0.021995\n",
            "5 -0.305605 -0.233085 -1.021142  0.084279\n",
            "6 -0.714604  2.021899  0.205796 -0.684658\n",
            "7  0.628854  0.293499 -0.854316  1.405998\n",
            "8 -1.258302  0.372088  0.048248 -0.546890\n",
            "9  1.312738  0.238698  0.285066  0.472723\n",
            "          0         1         2         3\n",
            "0  0.361508  1.023273 -0.290935  1.605899\n",
            "1  0.201344  0.624259  3.129523  0.385142\n",
            "3  0.195447  1.540041 -0.745099  0.178814\n",
            "4  1.032677  0.090299  1.914545 -0.021995\n",
            "5 -0.305605 -0.233085 -1.021142  0.084279\n",
            "6 -0.714604  2.021899  0.205796 -0.684658\n",
            "          0         1         2  ...         1         2         3\n",
            "0  0.361508  1.023273 -0.290935  ...       NaN       NaN       NaN\n",
            "1  0.201344  0.624259  3.129523  ...       NaN       NaN       NaN\n",
            "3       NaN       NaN       NaN  ...  1.540041 -0.745099  0.178814\n",
            "4       NaN       NaN       NaN  ...  0.090299  1.914545 -0.021995\n",
            "5       NaN       NaN       NaN  ... -0.233085 -1.021142  0.084279\n",
            "6       NaN       NaN       NaN  ...  2.021899  0.205796 -0.684658\n",
            "\n",
            "[6 rows x 8 columns]\n",
            "            0         1         2         3\n",
            "a 0  0.361508  1.023273 -0.290935  1.605899\n",
            "  1  0.201344  0.624259  3.129523  0.385142\n",
            "b 3  0.195447  1.540041 -0.745099  0.178814\n",
            "  4  1.032677  0.090299  1.914545 -0.021995\n",
            "  5 -0.305605 -0.233085 -1.021142  0.084279\n",
            "  6 -0.714604  2.021899  0.205796 -0.684658\n"
          ]
        }
      ]
    },
    {
      "cell_type": "code",
      "metadata": {
        "id": "h290MAgudPQI"
      },
      "source": [
        ""
      ],
      "execution_count": null,
      "outputs": []
    }
  ]
}